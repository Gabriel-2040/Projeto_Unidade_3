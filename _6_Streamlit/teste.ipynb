{
 "cells": [
  {
   "cell_type": "code",
   "execution_count": 4,
   "id": "a042401b",
   "metadata": {},
   "outputs": [
    {
     "name": "stdout",
     "output_type": "stream",
     "text": [
      "Faturamento por Estado:\n",
      "             valor\n",
      "estado            \n",
      "AC       544278.73\n",
      "AL       602196.28\n",
      "AM       653777.04\n",
      "AP       177864.28\n",
      "BA       924533.36\n",
      "CE       910208.01\n",
      "DF       466810.38\n",
      "ES      1018263.04\n",
      "GO      1241591.83\n",
      "MA       572642.56\n",
      "MG       647068.74\n",
      "MS       811941.39\n",
      "MT       547079.84\n",
      "PA       476184.55\n",
      "PB       641629.01\n",
      "PE       466966.55\n",
      "PI       527732.15\n",
      "PR       904869.24\n",
      "RJ       424842.90\n",
      "RN       488180.39\n",
      "RO       515167.14\n",
      "RR       260868.84\n",
      "RS       446774.58\n",
      "SC       477634.21\n",
      "SE       448106.29\n",
      "SP      1136756.44\n",
      "TO       942282.06\n",
      "\n",
      "Faturamento por Ano:\n",
      "ano\n",
      "2022    2418591.82\n",
      "2023    2260492.83\n",
      "2016    2191559.64\n",
      "2021    2128814.73\n",
      "2020    1650363.02\n",
      "2017    1582355.40\n",
      "2019    1444271.30\n",
      "2018    1393174.01\n",
      "2015    1310279.03\n",
      "2014     896348.05\n",
      "Name: valor, dtype: float64\n"
     ]
    }
   ],
   "source": [
    "import pandas as pd\n",
    "\n",
    "df = pd.read_csv(r\"E:\\PYTHON\\CURSOS\\10_Digital_College\\DA18\\PYTHON\\Projeto_Unidade_3\\_6_Streamlit\\assets\\dados_completos.csv\")\n",
    "\n",
    "# Agrupamento por estado\n",
    "group_estado = df.groupby('estado')[['valor']].sum()\n",
    "\n",
    "# Agrupamento por ano\n",
    "group_ano = df.groupby('ano')['valor'].sum().sort_values(ascending=False)\n",
    "\n",
    "# Exibir separadamente\n",
    "print(\"Faturamento por Estado:\")\n",
    "print(group_estado)\n",
    "\n",
    "print(\"\\nFaturamento por Ano:\")\n",
    "print(group_ano)\n",
    "\n"
   ]
  },
  {
   "cell_type": "code",
   "execution_count": 5,
   "id": "a4c60aaf",
   "metadata": {},
   "outputs": [
    {
     "name": "stdout",
     "output_type": "stream",
     "text": [
      "tipo_de_comercializacao\n",
      "ATACADO      6276033.41\n",
      "PRODUTOR    10478722.76\n",
      "VAREJO        521493.66\n",
      "Name: valor, dtype: float64\n"
     ]
    }
   ],
   "source": [
    "print(df.groupby('tipo_de_comercializacao')['valor'].sum())"
   ]
  }
 ],
 "metadata": {
  "kernelspec": {
   "display_name": ".venv",
   "language": "python",
   "name": "python3"
  },
  "language_info": {
   "codemirror_mode": {
    "name": "ipython",
    "version": 3
   },
   "file_extension": ".py",
   "mimetype": "text/x-python",
   "name": "python",
   "nbconvert_exporter": "python",
   "pygments_lexer": "ipython3",
   "version": "3.12.10"
  }
 },
 "nbformat": 4,
 "nbformat_minor": 5
}

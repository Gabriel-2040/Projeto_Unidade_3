{
 "cells": [
  {
   "cell_type": "code",
   "execution_count": 2,
   "id": "0009419e",
   "metadata": {},
   "outputs": [],
   "source": [
    "import pandas as pd\n",
    "import os"
   ]
  },
  {
   "cell_type": "code",
   "execution_count": null,
   "id": "43a745d0",
   "metadata": {},
   "outputs": [
    {
     "name": "stdout",
     "output_type": "stream",
     "text": [
      "Arquivo tratado salvo em: C:\\digital college\\DA18\\PYTHON\\Projeto_Unidade_3\\4_Etapa_ETL\\datasets_tratados\\relatorio_preco_medio_mensal_2023_tratado.csv\n"
     ]
    }
   ],
   "source": [
    "import pandas as pd\n",
    "import os\n",
    "\n",
    "# Caminho do CSV de entrada\n",
    "caminho_csv = r'C:\\digital college\\DA18\\PYTHON\\Projeto_Unidade_3\\2_datasets\\Base_Governamental\\Dados\\relatorio_preco_medio_mensal_2023.csv'\n",
    "\n",
    "# Nome do arquivo original\n",
    "nome_arquivo = os.path.basename(caminho_csv).replace('.csv', '')\n",
    "\n",
    "# Caminho da pasta de saída\n",
    "pasta_saida = r'C:\\digital college\\DA18\\PYTHON\\Projeto_Unidade_3\\4_Etapa_ETL\\datasets_tratados'\n",
    "\n",
    "# Leitura do CSV\n",
    "df_original = pd.read_csv(caminho_csv, sep=',', encoding='utf-8')\n",
    "\n",
    "# Lista para armazenar as linhas tratadas\n",
    "linhas_tratadas = []\n",
    "\n",
    "# Inicializa a linha anterior como None\n",
    "linha_anterior = None\n",
    "\n",
    "# Loop sobre as linhas do DataFrame original\n",
    "for i in range(len(df_original)):\n",
    "    linha_atual = df_original.iloc[i].copy()\n",
    "\n",
    "    while linha_atual.isnull().any():\n",
    "        # Preencher campos vazios com base na linha anterior\n",
    "        if linha_anterior is not None:\n",
    "            for col in df_original.columns:\n",
    "                if pd.isna(linha_atual[col]):\n",
    "                    linha_atual[col] = linha_anterior[col]\n",
    "\n",
    "        # Se ainda houver campos vazios, tenta usar a linha seguinte\n",
    "        if linha_atual.isnull().any() and i + 1 < len(df_original):\n",
    "            linha_seguinte = df_original.iloc[i + 1]\n",
    "            for col in df_original.columns:\n",
    "                if pd.isna(linha_atual[col]):\n",
    "                    linha_atual[col] = linha_seguinte[col]\n",
    "\n",
    "        # Se ainda houver campos vazios, interrompe o loop para não travar\n",
    "        break\n",
    "\n",
    "    linhas_tratadas.append(linha_atual)\n",
    "    linha_anterior = linha_atual  # Atualiza a linha anterior\n",
    "\n",
    "# Novo DataFrame com os dados tratados\n",
    "df_tratado = pd.DataFrame(linhas_tratadas)\n",
    "\n",
    "# -------------------\n",
    "# LIMPEZA FINAL: remove rodapés, linhas vazias e textos desnecessários\n",
    "# -------------------\n",
    "\n",
    "# Lista de palavras-chave para identificar rodapés indesejados\n",
    "padroes_excluir = ['fonte', 'proibida', 'informações podem ser reproduzidas']\n",
    "\n",
    "# Remove linhas onde a 1ª coluna contém esses padrões\n",
    "#~ usado para negação.ou seja, ele mantém as linhas que não contêm os padrões\n",
    "df_tratado = df_tratado[\n",
    "    ~df_tratado.iloc[:, 0].astype(str).str.lower().str.contains('|'.join(padroes_excluir), na=False)\n",
    "]\n",
    "\n",
    "# Também remove linhas completamente vazias (todas as colunas NaN)\n",
    "df_tratado = df_tratado.dropna(how='all')\n",
    "\n",
    "# Como segurança, remove as últimas 5 linhas se ainda restarem linhas suficientes\n",
    "if len(df_tratado) > 5:\n",
    "    df_tratado = df_tratado.iloc[:-5]\n",
    "\n",
    "# Caminho final do arquivo salvo\n",
    "caminho_saida = os.path.join(pasta_saida, f'{nome_arquivo}_tratado.csv')\n",
    "\n",
    "# Salva o novo CSV\n",
    "df_tratado.to_csv(caminho_saida, sep=',', index=False, encoding='utf-8')\n",
    "\n",
    "print(f'Arquivo tratado salvo em: {caminho_saida}')\n"
   ]
  },
  {
   "cell_type": "code",
   "execution_count": null,
   "id": "501ad873",
   "metadata": {},
   "outputs": [
    {
     "data": {
      "application/vnd.microsoft.datawrangler.viewer.v0+json": {
       "columns": [
        {
         "name": "index",
         "rawType": "int64",
         "type": "integer"
        },
        {
         "name": "Produto/Unidade,Nível de Comercialização,U.F.,01/2014,02/2014,03/2014,04/2014,05/2014,06/2014,07/2014,08/2014,09/2014,10/2014,11/2014,12/2014",
         "rawType": "object",
         "type": "string"
        }
       ],
       "ref": "addae7c7-0a01-4950-b5bd-7d1af5d0be7d",
       "rows": [
        [
         "0",
         "ABACAXI PÉROLA (kg),PRODUTOR,AM,\"1,35\",\"1,56\",\"1,60\",\"1,63\",\"1,60\",\"1,58\",\"1,41\",\"1,43\",\"1,48\",\"1,56\",\"1,80\",\"1,78\""
        ],
        [
         "1",
         "ABACAXI PÉROLA (kg),PRODUTOR,AP,\"1,50\",\"2,38\",\"2,50\",\"2,50\",\"2,25\",\"2,19\",\"2,05\",\"1,92\",\"1,80\",\"1,92\",\"2,10\",\"2,50\""
        ],
        [
         "2",
         "ABACAXI PÉROLA (kg),PRODUTOR,ES,\"1,63\",\"1,45\",\"1,73\",\"1,90\",\"1,89\",\"1,83\",\"1,85\",\"1,65\",\"1,56\",\"1,77\",\"1,93\",\"1,60\""
        ],
        [
         "3",
         "ABACAXI PÉROLA (kg),PRODUTOR,PR,\"1,50\",\"1,50\",\"1,50\",\"1,50\",\"1,50\",\"1,50\",\"1,50\",\"1,50\",\"1,50\",\"1,50\",\"1,50\",\"1,50\""
        ],
        [
         "4",
         "ABACAXI PÉROLA (kg),PRODUTOR,RR,\"1,17\",\"1,15\",\"1,21\",\"1,25\",\"1,25\",\"1,25\",\"1,25\",\"1,25\",\"1,25\",\"1,28\",\"1,30\",\"1,28\""
        ],
        [
         "5",
         "ABACAXI PÉROLA (kg),PRODUTOR,TO,\"1,44\",\"1,53\",\"1,51\",\"1,49\",\"1,49\",\"1,42\",\"1,39\",\"1,36\",\"1,44\",\"1,38\",\"1,40\",\"1,43\""
        ],
        [
         "6",
         "ABACAXI PÉROLA (t),PRODUTOR,AC,\"1.820,00\",\"2.450,00\",\"2.600,00\",\"2.600,00\",\"2.600,00\",\"2.600,00\",\"2.600,00\",\"2.600,00\",\"2.600,00\",\"2.600,00\",\"2.600,00\",\"2.575,00\""
        ],
        [
         "7",
         "ABACAXI PÉROLA (t),PRODUTOR,BA,\"1.800,00\",\"2.450,00\",\"2.600,00\",\"2.600,00\",\"2.600,00\",\"2.600,00\",\"1.500,00\",\"1.500,00\",\"1.425,00\",\"1.680,00\",\"1.477,50\",\"1.150,00\""
        ],
        [
         "8",
         "ABACAXI PÉROLA (t),PRODUTOR,CE,\"1.820,00\",\"1.775,00\",\"1.575,00\",\"1.687,50\",\"1.765,00\",\"1.700,00\",\"1.662,50\",\"1.660,00\",\"1.656,25\",\"1.710,00\",\"1.800,00\",\"1.800,00\""
        ],
        [
         "9",
         "ABACAXI PÉROLA (t),PRODUTOR,GO,\"1.161,75\",\"1.240,94\",\"1.306,88\",\"1.647,92\",\"1.341,50\",\"1.356,25\",\"1.351,88\",\"1.431,25\",\"1.460,63\",\"1.588,20\",\"1.558,00\",\"1.290,00\""
        ],
        [
         "10",
         "ABACAXI PÉROLA (t),PRODUTOR,MG,\"1.066,40\",\"1.066,17\",\"1.066,66\",\"1.066,66\",\"1.066,66\",\"1.033,33\",\"1.033,33\",\"1.079,99\",\"1.083,33\",\"1.226,66\",\"1.200,00\",\"1.000,00\""
        ],
        [
         "11",
         "ABACAXI PÉROLA (t),PRODUTOR,PB,\"1.268,00\",\"1.239,63\",\"1.280,00\",\"1.206,25\",\"1.135,00\",\"1.061,75\",\"1.007,50\",\"1.277,20\",\"1.197,46\",\"1.211,00\",\"1.221,00\",\"695,25\""
        ],
        [
         "12",
         "ABACAXI PÉROLA (t),PRODUTOR,RJ,\"1.196,80\",\"1.222,33\",\"1.219,89\",\"901,00\",\"921,73\",\"765,67\",\"840,92\",\"886,67\",\"926,08\",\"1.157,27\",\"1.269,08\",\"827,50\""
        ],
        [
         "13",
         "ABACAXI PÉROLA (t),PRODUTOR,RS,\"1.740,00\",\"1.550,56\",\"1.500,00\",\"1.500,00\",\"1.500,00\",\"765,67\",\"840,92\",\"886,67\",\"926,08\",\"1.157,27\",\"1.269,08\",\"827,50\""
        ],
        [
         "14",
         "ABACAXI PÉROLA (t),PRODUTOR,SE,\"666,67\",\"666,67\",\"766,67\",\"883,25\",\"933,00\",\"933,00\",\"933,00\",\"1.116,50\",\"975,00\",\"933,00\",\"933,00\",\"866,67\""
        ],
        [
         "15",
         "ABACAXI PÉROLA (t),PRODUTOR,SP,\"1.424,20\",\"1.440,00\",\"1.446,25\",\"1.461,50\",\"1.801,00\",\"1.947,50\",\"2.212,50\",\"2.234,00\",\"2.247,50\",\"2.254,00\",\"2.262,50\",\"2.270,00\""
        ],
        [
         "16",
         "ABACAXI PÉROLA (un),PRODUTOR,RN,\"1,40\",\"1,34\",\"1,35\",\"1,48\",\"1,51\",\"1,53\",\"1,50\",\"1,50\",\"1,48\",\"1,45\",\"1,45\",\"1,45\""
        ],
        [
         "17",
         "ABACAXI PÉROLA (un),PRODUTOR,TO,\"1,45\",\"1,49\",\"1,50\",\"1,50\",\"1,51\",\"1,46\",\"1,41\",\"1,36\",\"1,39\",\"1,35\",\"1,39\",\"1,47\""
        ],
        [
         "18",
         "ABACAXI (un),ATACADO,AL,\"2,68\",\"3,03\",\"3,25\",\"3,25\",\"1,51\",\"1,46\",\"1,41\",\"1,36\",\"1,39\",\"1,35\",\"1,39\",\"1,47\""
        ],
        [
         "19",
         "ABACAXI (un),ATACADO,BA,\"1,53\",\"2,33\",\"1,90\",\"1,67\",\"1,60\",\"1,42\",\"1,42\",\"1,50\",\"1,79\",\"1,77\",\"1,84\",\"1,80\""
        ],
        [
         "20",
         "ABACAXI (un),ATACADO,CE,\"2,66\",\"2,89\",\"2,98\",\"2,78\",\"2,72\",\"2,37\",\"2,41\",\"2,56\",\"2,88\",\"2,99\",\"3,34\",\"3,39\""
        ],
        [
         "21",
         "ABACAXI (un),ATACADO,DF,\"5,38\",\"4,98\",\"4,55\",\"4,30\",\"4,30\",\"4,30\",\"3,35\",\"3,80\",\"4,48\",\"5,25\",\"5,39\",\"4,95\""
        ],
        [
         "22",
         "ABACAXI (un),ATACADO,ES,\"2,70\",\"3,05\",\"3,00\",\"2,95\",\"2,90\",\"2,92\",\"2,87\",\"2,60\",\"2,56\",\"2,78\",\"2,77\",\"2,63\""
        ],
        [
         "23",
         "ABACAXI (un),ATACADO,GO,\"3,30\",\"3,63\",\"3,50\",\"3,50\",\"3,30\",\"2,92\",\"3,00\",\"3,00\",\"3,00\",\"4,06\",\"4,75\",\"4,00\""
        ],
        [
         "24",
         "ABACAXI (un),ATACADO,MG,\"2,30\",\"3,02\",\"2,75\",\"2,39\",\"2,25\",\"2,53\",\"2,51\",\"2,96\",\"2,40\",\"2,30\",\"2,18\",\"1,56\""
        ],
        [
         "25",
         "ABACAXI (un),ATACADO,MS,\"3,57\",\"3,74\",\"4,30\",\"4,07\",\"3,11\",\"2,92\",\"2,92\",\"3,10\",\"3,33\",\"4,08\",\"4,48\",\"3,44\""
        ],
        [
         "26",
         "ABACAXI (un),ATACADO,PA,\"2,09\",\"2,12\",\"2,26\",\"2,20\",\"1,90\",\"1,90\",\"1,86\",\"1,63\",\"1,74\",\"2,03\",\"2,26\",\"2,36\""
        ],
        [
         "27",
         "ABACAXI (un),ATACADO,PB,\"1,24\",\"1,67\",\"2,26\",\"2,20\",\"1,90\",\"1,90\",\"1,86\",\"1,39\",\"1,45\",\"1,47\",\"1,43\",\"1,27\""
        ],
        [
         "28",
         "ABACAXI (un),ATACADO,PE,\"1,63\",\"2,44\",\"2,33\",\"2,50\",\"2,16\",\"1,91\",\"1,79\",\"2,50\",\"2,35\",\"2,20\",\"2,50\",\"1,93\""
        ],
        [
         "29",
         "ABACAXI (un),ATACADO,PR,\"4,06\",\"4,03\",\"3,24\",\"1,87\",\"1,64\",\"1,56\",\"1,43\",\"1,46\",\"1,65\",\"1,78\",\"1,81\",\"1,83\""
        ],
        [
         "30",
         "ABACAXI (un),ATACADO,RJ,\"3,64\",\"4,20\",\"3,88\",\"4,21\",\"4,02\",\"3,96\",\"3,90\",\"3,90\",\"3,64\",\"3,60\",\"3,79\",\"3,51\""
        ],
        [
         "31",
         "ABACAXI (un),ATACADO,RN,\"1,50\",\"1,50\",\"1,50\",\"1,50\",\"1,50\",\"1,50\",\"1,50\",\"1,45\",\"1,50\",\"1,50\",\"1,50\",\"1,50\""
        ],
        [
         "32",
         "ABACAXI (un),ATACADO,RS,\"2,80\",\"2,80\",\"2,59\",\"2,50\",\"2,50\",\"2,50\",\"2,25\",\"2,00\",\"2,00\",\"2,83\",\"3,00\",\"3,00\""
        ],
        [
         "33",
         "ABACAXI (un),ATACADO,SC,\"3,00\",\"3,50\",\"3,10\",\"3,00\",\"2,80\",\"2,50\",\"2,25\",\"3,00\",\"3,00\",\"3,20\",\"3,40\",\"3,40\""
        ],
        [
         "34",
         "ABACAXI (un),ATACADO,SP,\"5,24\",\"5,50\",\"5,29\",\"4,79\",\"4,65\",\"4,65\",\"4,67\",\"4,77\",\"4,86\",\"4,83\",\"5,29\",\"4,52\""
        ],
        [
         "35",
         "ABACAXI (un),ATACADO,TO,\"1,84\",\"1,60\",\"2,00\",\"2,00\",\"1,98\",\"1,90\",\"2,00\",\"2,17\",\"2,92\",\"2,78\",\"2,67\",\"2,27\""
        ],
        [
         "36",
         "AÇAÍ FRUTO (kg),PRODUTOR,AC,\"1,08\",\"1,21\",\"1,21\",\"1,23\",\"1,23\",\"1,23\",\"1,23\",\"1,25\",\"1,28\",\"1,28\",\"1,28\",\"1,30\""
        ],
        [
         "37",
         "AÇAÍ FRUTO (kg),PRODUTOR,AM,\"1,13\",\"1,12\",\"1,12\",\"1,09\",\"1,06\",\"1,03\",\"1,04\",\"1,08\",\"1,04\",\"1,07\",\"1,53\",\"1,66\""
        ],
        [
         "38",
         "AÇAÍ FRUTO (kg),PRODUTOR,AP,\"2,21\",\"3,38\",\"3,38\",\"3,38\",\"2,65\",\"2,10\",\"2,03\",\"2,00\",\"2,08\",\"2,70\",\"2,70\",\"2,70\""
        ],
        [
         "39",
         "AÇAÍ FRUTO (kg),PRODUTOR,MA,\"4,00\",\"4,00\",\"4,00\",\"4,13\",\"4,50\",\"4,50\",\"4,50\",\"3,08\",\"2,07\",\"2,07\",\"2,07\",\"2,07\""
        ],
        [
         "40",
         "AÇAÍ FRUTO (kg),PRODUTOR,PA,\"1,18\",\"1,37\",\"1,58\",\"1,95\",\"2,41\",\"2,74\",\"1,98\",\"2,07\",\"2,24\",\"1,52\",\"1,32\",\"1,30\""
        ],
        [
         "41",
         "AÇAÍ FRUTO (kg),PRODUTOR,RO,\"2,00\",\"2,00\",\"2,00\",\"2,00\",\"2,00\",\"2,00\",\"1,00\",\"1,00\",\"1,00\",\"0,90\",\"0,96\",\"1,00\""
        ],
        [
         "42",
         "AÇÚCAR CRISTAL (10 kg),ATACADO,CE,\"15,20\",\"15,00\",\"15,00\",\"15,00\",\"15,00\",\"15,00\",\"15,00\",\"15,20\",\"14,75\",\"14,36\",\"14,15\",\"14,00\""
        ],
        [
         "43",
         "AÇÚCAR CRISTAL (2 kg),VAREJO,GO,\"3,42\",\"15,00\",\"15,00\",\"3,17\",\"3,32\",\"15,00\",\"3,19\",\"3,18\",\"3,12\",\"3,21\",\"14,15\",\"3,22\""
        ],
        [
         "44",
         "AÇÚCAR CRISTAL (2 kg),VAREJO,SP,\"4,42\",\"15,00\",\"15,00\",\"4,50\",\"4,75\",\"15,00\",\"4,60\",\"4,55\",\"4,60\",\"4,16\",\"14,15\",\"4,25\""
        ],
        [
         "45",
         "AÇÚCAR CRISTAL (2 kg),VAREJO,TO,\"3,09\",\"15,00\",\"15,00\",\"2,99\",\"3,34\",\"15,00\",\"3,35\",\"3,65\",\"3,40\",\"3,45\",\"14,15\",\"3,50\""
        ],
        [
         "46",
         "AÇÚCAR CRISTAL (50 kg),ATACADO,SP,\"50,32\",\"49,88\",\"50,81\",\"51,73\",\"51,61\",\"49,60\",\"47,78\",\"47,19\",\"44,68\",\"47,11\",\"49,77\",\"52,02\""
        ],
        [
         "47",
         "AÇÚCAR CRISTAL (5 kg),VAREJO,GO,\"6,72\",\"49,88\",\"50,81\",\"7,09\",\"7,34\",\"49,60\",\"7,11\",\"7,01\",\"6,99\",\"6,67\",\"49,77\",\"7,07\""
        ],
        [
         "48",
         "AÇÚCAR CRISTAL (5 kg),VAREJO,SP,\"11,95\",\"49,88\",\"50,81\",\"11,95\",\"12,10\",\"49,60\",\"12,00\",\"12,00\",\"12,10\",\"10,55\",\"49,77\",\"10,15\""
        ],
        [
         "49",
         "AÇÚCAR CRISTAL (5 kg),VAREJO,TO,\"7,79\",\"49,88\",\"50,81\",\"7,47\",\"8,25\",\"49,60\",\"8,25\",\"7,90\",\"7,98\",\"7,99\",\"49,77\",\"7,99\""
        ]
       ],
       "shape": {
        "columns": 1,
        "rows": 1245
       }
      },
      "text/html": [
       "<div>\n",
       "<style scoped>\n",
       "    .dataframe tbody tr th:only-of-type {\n",
       "        vertical-align: middle;\n",
       "    }\n",
       "\n",
       "    .dataframe tbody tr th {\n",
       "        vertical-align: top;\n",
       "    }\n",
       "\n",
       "    .dataframe thead th {\n",
       "        text-align: right;\n",
       "    }\n",
       "</style>\n",
       "<table border=\"1\" class=\"dataframe\">\n",
       "  <thead>\n",
       "    <tr style=\"text-align: right;\">\n",
       "      <th></th>\n",
       "      <th>Produto/Unidade,Nível de Comercialização,U.F.,01/2014,02/2014,03/2014,04/2014,05/2014,06/2014,07/2014,08/2014,09/2014,10/2014,11/2014,12/2014</th>\n",
       "    </tr>\n",
       "  </thead>\n",
       "  <tbody>\n",
       "    <tr>\n",
       "      <th>0</th>\n",
       "      <td>ABACAXI PÉROLA (kg),PRODUTOR,AM,\"1,35\",\"1,56\",...</td>\n",
       "    </tr>\n",
       "    <tr>\n",
       "      <th>1</th>\n",
       "      <td>ABACAXI PÉROLA (kg),PRODUTOR,AP,\"1,50\",\"2,38\",...</td>\n",
       "    </tr>\n",
       "    <tr>\n",
       "      <th>2</th>\n",
       "      <td>ABACAXI PÉROLA (kg),PRODUTOR,ES,\"1,63\",\"1,45\",...</td>\n",
       "    </tr>\n",
       "    <tr>\n",
       "      <th>3</th>\n",
       "      <td>ABACAXI PÉROLA (kg),PRODUTOR,PR,\"1,50\",\"1,50\",...</td>\n",
       "    </tr>\n",
       "    <tr>\n",
       "      <th>4</th>\n",
       "      <td>ABACAXI PÉROLA (kg),PRODUTOR,RR,\"1,17\",\"1,15\",...</td>\n",
       "    </tr>\n",
       "    <tr>\n",
       "      <th>...</th>\n",
       "      <td>...</td>\n",
       "    </tr>\n",
       "    <tr>\n",
       "      <th>1240</th>\n",
       "      <td>UVA (kg),PRODUTOR,PB,\"1,91\",\"1,91\",\"2,15\",\"2,8...</td>\n",
       "    </tr>\n",
       "    <tr>\n",
       "      <th>1241</th>\n",
       "      <td>UVA (kg),PRODUTOR,PB,\"1,91\",\"1,91\",\"2,15\",\"2,8...</td>\n",
       "    </tr>\n",
       "    <tr>\n",
       "      <th>1242</th>\n",
       "      <td>Fonte: Companhia Nacional de Abastecimento - C...</td>\n",
       "    </tr>\n",
       "    <tr>\n",
       "      <th>1243</th>\n",
       "      <td>As informações podem ser reproduzidas, desde q...</td>\n",
       "    </tr>\n",
       "    <tr>\n",
       "      <th>1244</th>\n",
       "      <td>Proibida a comercialização das informações dis...</td>\n",
       "    </tr>\n",
       "  </tbody>\n",
       "</table>\n",
       "<p>1245 rows × 1 columns</p>\n",
       "</div>"
      ],
      "text/plain": [
       "     Produto/Unidade,Nível de Comercialização,U.F.,01/2014,02/2014,03/2014,04/2014,05/2014,06/2014,07/2014,08/2014,09/2014,10/2014,11/2014,12/2014\n",
       "0     ABACAXI PÉROLA (kg),PRODUTOR,AM,\"1,35\",\"1,56\",...                                                                                           \n",
       "1     ABACAXI PÉROLA (kg),PRODUTOR,AP,\"1,50\",\"2,38\",...                                                                                           \n",
       "2     ABACAXI PÉROLA (kg),PRODUTOR,ES,\"1,63\",\"1,45\",...                                                                                           \n",
       "3     ABACAXI PÉROLA (kg),PRODUTOR,PR,\"1,50\",\"1,50\",...                                                                                           \n",
       "4     ABACAXI PÉROLA (kg),PRODUTOR,RR,\"1,17\",\"1,15\",...                                                                                           \n",
       "...                                                 ...                                                                                           \n",
       "1240  UVA (kg),PRODUTOR,PB,\"1,91\",\"1,91\",\"2,15\",\"2,8...                                                                                           \n",
       "1241  UVA (kg),PRODUTOR,PB,\"1,91\",\"1,91\",\"2,15\",\"2,8...                                                                                           \n",
       "1242  Fonte: Companhia Nacional de Abastecimento - C...                                                                                           \n",
       "1243  As informações podem ser reproduzidas, desde q...                                                                                           \n",
       "1244  Proibida a comercialização das informações dis...                                                                                           \n",
       "\n",
       "[1245 rows x 1 columns]"
      ]
     },
     "execution_count": 4,
     "metadata": {},
     "output_type": "execute_result"
    }
   ],
   "source": [
    "df_tratado = pd.read_csv(r'C:\\digital college\\DA18\\PYTHON\\Projeto_Unidade_3\\4_Etapa_ETL\\datasets_tratados\\relatorio_preco_medio_mensal_2014_tratado.csv', sep=';', encoding='utf-8')\n",
    "df_tratado"
   ]
  }
 ],
 "metadata": {
  "kernelspec": {
   "display_name": ".venv",
   "language": "python",
   "name": "python3"
  },
  "language_info": {
   "codemirror_mode": {
    "name": "ipython",
    "version": 3
   },
   "file_extension": ".py",
   "mimetype": "text/x-python",
   "name": "python",
   "nbconvert_exporter": "python",
   "pygments_lexer": "ipython3",
   "version": "3.11.0"
  }
 },
 "nbformat": 4,
 "nbformat_minor": 5
}

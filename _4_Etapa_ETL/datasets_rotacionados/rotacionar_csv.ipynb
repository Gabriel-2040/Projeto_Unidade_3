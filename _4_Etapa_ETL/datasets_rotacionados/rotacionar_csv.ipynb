{
 "cells": [
  {
   "cell_type": "code",
   "execution_count": 8,
   "id": "b6dc963d",
   "metadata": {},
   "outputs": [
    {
     "name": "stderr",
     "output_type": "stream",
     "text": [
      "C:\\Users\\Gabriel\\AppData\\Local\\Temp\\ipykernel_11908\\2369057647.py:46: FutureWarning: A value is trying to be set on a copy of a DataFrame or Series through chained assignment using an inplace method.\n",
      "The behavior will change in pandas 3.0. This inplace method will never work because the intermediate object on which we are setting values always behaves as a copy.\n",
      "\n",
      "For example, when doing 'df[col].method(value, inplace=True)', try using 'df.method({col: value}, inplace=True)' or df[col] = df[col].method(value) instead, to perform the operation inplace on the original object.\n",
      "\n",
      "\n",
      "  df_long['valor'].fillna(0, inplace=True)\n"
     ]
    },
    {
     "name": "stdout",
     "output_type": "stream",
     "text": [
      "Arquivo relatorio_preco_medio_mensal_2014_tratado.csv processado com sucesso! Salvo como relatorio_preco_medio_mensal_2014_tratado_rotacionado.csv\n",
      "     Produto/Unidade Nível de Comercialização U.F.     data  valor\n",
      "18      ABACAXI (un)                  ATACADO   AL  01/2014   2.68\n",
      "1255    ABACAXI (un)                  ATACADO   AL  02/2014   3.03\n",
      "2492    ABACAXI (un)                  ATACADO   AL  03/2014   3.25\n",
      "3729    ABACAXI (un)                  ATACADO   AL  04/2014   3.25\n",
      "4966    ABACAXI (un)                  ATACADO   AL  05/2014   1.51\n"
     ]
    },
    {
     "name": "stderr",
     "output_type": "stream",
     "text": [
      "C:\\Users\\Gabriel\\AppData\\Local\\Temp\\ipykernel_11908\\2369057647.py:46: FutureWarning: A value is trying to be set on a copy of a DataFrame or Series through chained assignment using an inplace method.\n",
      "The behavior will change in pandas 3.0. This inplace method will never work because the intermediate object on which we are setting values always behaves as a copy.\n",
      "\n",
      "For example, when doing 'df[col].method(value, inplace=True)', try using 'df.method({col: value}, inplace=True)' or df[col] = df[col].method(value) instead, to perform the operation inplace on the original object.\n",
      "\n",
      "\n",
      "  df_long['valor'].fillna(0, inplace=True)\n"
     ]
    },
    {
     "name": "stdout",
     "output_type": "stream",
     "text": [
      "Arquivo relatorio_preco_medio_mensal_2015_tratado.csv processado com sucesso! Salvo como relatorio_preco_medio_mensal_2015_tratado_rotacionado.csv\n",
      "     Produto/Unidade Nível de Comercialização U.F.     data  valor\n",
      "20      ABACAXI (un)                  ATACADO   AL  01/2015   1.48\n",
      "2021    ABACAXI (un)                  ATACADO   AL  02/2015   1.48\n",
      "4022    ABACAXI (un)                  ATACADO   AL  03/2015   2.04\n",
      "6023    ABACAXI (un)                  ATACADO   AL  04/2015   2.04\n",
      "8024    ABACAXI (un)                  ATACADO   AL  05/2015   1.67\n"
     ]
    },
    {
     "name": "stderr",
     "output_type": "stream",
     "text": [
      "C:\\Users\\Gabriel\\AppData\\Local\\Temp\\ipykernel_11908\\2369057647.py:46: FutureWarning: A value is trying to be set on a copy of a DataFrame or Series through chained assignment using an inplace method.\n",
      "The behavior will change in pandas 3.0. This inplace method will never work because the intermediate object on which we are setting values always behaves as a copy.\n",
      "\n",
      "For example, when doing 'df[col].method(value, inplace=True)', try using 'df.method({col: value}, inplace=True)' or df[col] = df[col].method(value) instead, to perform the operation inplace on the original object.\n",
      "\n",
      "\n",
      "  df_long['valor'].fillna(0, inplace=True)\n"
     ]
    },
    {
     "name": "stdout",
     "output_type": "stream",
     "text": [
      "Arquivo relatorio_preco_medio_mensal_2016_tratado.csv processado com sucesso! Salvo como relatorio_preco_medio_mensal_2016_tratado_rotacionado.csv\n",
      "     Produto/Unidade Nível de Comercialização U.F.     data  valor\n",
      "26      ABACAXI (un)                  ATACADO   AL  01/2016   2.50\n",
      "2468    ABACAXI (un)                  ATACADO   AL  02/2016   3.75\n",
      "4910    ABACAXI (un)                  ATACADO   AL  03/2016   4.00\n",
      "7352    ABACAXI (un)                  ATACADO   AL  04/2016   4.20\n",
      "9794    ABACAXI (un)                  ATACADO   AL  05/2016   4.00\n"
     ]
    },
    {
     "name": "stderr",
     "output_type": "stream",
     "text": [
      "C:\\Users\\Gabriel\\AppData\\Local\\Temp\\ipykernel_11908\\2369057647.py:46: FutureWarning: A value is trying to be set on a copy of a DataFrame or Series through chained assignment using an inplace method.\n",
      "The behavior will change in pandas 3.0. This inplace method will never work because the intermediate object on which we are setting values always behaves as a copy.\n",
      "\n",
      "For example, when doing 'df[col].method(value, inplace=True)', try using 'df.method({col: value}, inplace=True)' or df[col] = df[col].method(value) instead, to perform the operation inplace on the original object.\n",
      "\n",
      "\n",
      "  df_long['valor'].fillna(0, inplace=True)\n"
     ]
    },
    {
     "name": "stdout",
     "output_type": "stream",
     "text": [
      "Arquivo relatorio_preco_medio_mensal_2017_tratado.csv processado com sucesso! Salvo como relatorio_preco_medio_mensal_2017_tratado_rotacionado.csv\n",
      "     Produto/Unidade Nível de Comercialização U.F.     data  valor\n",
      "22      ABACAXI (un)                  ATACADO   AL  01/2017   3.33\n",
      "2216    ABACAXI (un)                  ATACADO   AL  02/2017   3.50\n",
      "4410    ABACAXI (un)                  ATACADO   AL  03/2017   3.54\n",
      "6604    ABACAXI (un)                  ATACADO   AL  04/2017   3.00\n",
      "8798    ABACAXI (un)                  ATACADO   AL  05/2017   2.83\n"
     ]
    },
    {
     "name": "stderr",
     "output_type": "stream",
     "text": [
      "C:\\Users\\Gabriel\\AppData\\Local\\Temp\\ipykernel_11908\\2369057647.py:46: FutureWarning: A value is trying to be set on a copy of a DataFrame or Series through chained assignment using an inplace method.\n",
      "The behavior will change in pandas 3.0. This inplace method will never work because the intermediate object on which we are setting values always behaves as a copy.\n",
      "\n",
      "For example, when doing 'df[col].method(value, inplace=True)', try using 'df.method({col: value}, inplace=True)' or df[col] = df[col].method(value) instead, to perform the operation inplace on the original object.\n",
      "\n",
      "\n",
      "  df_long['valor'].fillna(0, inplace=True)\n"
     ]
    },
    {
     "name": "stdout",
     "output_type": "stream",
     "text": [
      "Arquivo relatorio_preco_medio_mensal_2018_tratado.csv processado com sucesso! Salvo como relatorio_preco_medio_mensal_2018_tratado_rotacionado.csv\n",
      "       Produto/Unidade Nível de Comercialização U.F.     data  valor\n",
      "0     10-30-15 (50 kg)                 PRODUTOR   AL  01/2018   1.06\n",
      "2139  10-30-15 (50 kg)                 PRODUTOR   AL  02/2018   1.15\n",
      "4278  10-30-15 (50 kg)                 PRODUTOR   AL  03/2018   1.47\n",
      "6417  10-30-15 (50 kg)                 PRODUTOR   AL  04/2018   1.30\n",
      "8556  10-30-15 (50 kg)                 PRODUTOR   AL  05/2018   1.30\n"
     ]
    },
    {
     "name": "stderr",
     "output_type": "stream",
     "text": [
      "C:\\Users\\Gabriel\\AppData\\Local\\Temp\\ipykernel_11908\\2369057647.py:46: FutureWarning: A value is trying to be set on a copy of a DataFrame or Series through chained assignment using an inplace method.\n",
      "The behavior will change in pandas 3.0. This inplace method will never work because the intermediate object on which we are setting values always behaves as a copy.\n",
      "\n",
      "For example, when doing 'df[col].method(value, inplace=True)', try using 'df.method({col: value}, inplace=True)' or df[col] = df[col].method(value) instead, to perform the operation inplace on the original object.\n",
      "\n",
      "\n",
      "  df_long['valor'].fillna(0, inplace=True)\n"
     ]
    },
    {
     "name": "stdout",
     "output_type": "stream",
     "text": [
      "Arquivo relatorio_preco_medio_mensal_2019_tratado.csv processado com sucesso! Salvo como relatorio_preco_medio_mensal_2019_tratado_rotacionado.csv\n",
      "     Produto/Unidade Nível de Comercialização U.F.     data  valor\n",
      "26      ABACAXI (un)                  ATACADO   AL  01/2019   1.50\n",
      "2106    ABACAXI (un)                  ATACADO   AL  02/2019  12.00\n",
      "4186    ABACAXI (un)                  ATACADO   AL  03/2019  12.00\n",
      "6266    ABACAXI (un)                  ATACADO   AL  04/2019  14.75\n",
      "8346    ABACAXI (un)                  ATACADO   AL  05/2019   2.30\n"
     ]
    },
    {
     "name": "stderr",
     "output_type": "stream",
     "text": [
      "C:\\Users\\Gabriel\\AppData\\Local\\Temp\\ipykernel_11908\\2369057647.py:46: FutureWarning: A value is trying to be set on a copy of a DataFrame or Series through chained assignment using an inplace method.\n",
      "The behavior will change in pandas 3.0. This inplace method will never work because the intermediate object on which we are setting values always behaves as a copy.\n",
      "\n",
      "For example, when doing 'df[col].method(value, inplace=True)', try using 'df.method({col: value}, inplace=True)' or df[col] = df[col].method(value) instead, to perform the operation inplace on the original object.\n",
      "\n",
      "\n",
      "  df_long['valor'].fillna(0, inplace=True)\n"
     ]
    },
    {
     "name": "stdout",
     "output_type": "stream",
     "text": [
      "Arquivo relatorio_preco_medio_mensal_2020_tratado.csv processado com sucesso! Salvo como relatorio_preco_medio_mensal_2020_tratado_rotacionado.csv\n",
      "         Produto/Unidade Nível de Comercialização U.F.     data  valor\n",
      "0     ABACAXI HAVAÍ (kg)                 PRODUTOR   PR  01/2020   1.35\n",
      "1968  ABACAXI HAVAÍ (kg)                 PRODUTOR   PR  02/2020   1.35\n",
      "3936  ABACAXI HAVAÍ (kg)                 PRODUTOR   PR  03/2020   1.35\n",
      "5904  ABACAXI HAVAÍ (kg)                 PRODUTOR   PR  04/2020  18.21\n",
      "7872  ABACAXI HAVAÍ (kg)                 PRODUTOR   PR  05/2020  16.58\n"
     ]
    },
    {
     "name": "stderr",
     "output_type": "stream",
     "text": [
      "C:\\Users\\Gabriel\\AppData\\Local\\Temp\\ipykernel_11908\\2369057647.py:46: FutureWarning: A value is trying to be set on a copy of a DataFrame or Series through chained assignment using an inplace method.\n",
      "The behavior will change in pandas 3.0. This inplace method will never work because the intermediate object on which we are setting values always behaves as a copy.\n",
      "\n",
      "For example, when doing 'df[col].method(value, inplace=True)', try using 'df.method({col: value}, inplace=True)' or df[col] = df[col].method(value) instead, to perform the operation inplace on the original object.\n",
      "\n",
      "\n",
      "  df_long['valor'].fillna(0, inplace=True)\n"
     ]
    },
    {
     "name": "stdout",
     "output_type": "stream",
     "text": [
      "Arquivo relatorio_preco_medio_mensal_2021_tratado.csv processado com sucesso! Salvo como relatorio_preco_medio_mensal_2021_tratado_rotacionado.csv\n",
      "     Produto/Unidade Nível de Comercialização U.F.     data  valor\n",
      "1       ABACAXI (kg)                  ATACADO   RR  01/2021   1.92\n",
      "1986    ABACAXI (kg)                  ATACADO   RR  02/2021   1.92\n",
      "3971    ABACAXI (kg)                  ATACADO   RR  03/2021   1.86\n",
      "5956    ABACAXI (kg)                  ATACADO   RR  04/2021   1.60\n",
      "7941    ABACAXI (kg)                  ATACADO   RR  05/2021   1.46\n"
     ]
    },
    {
     "name": "stderr",
     "output_type": "stream",
     "text": [
      "C:\\Users\\Gabriel\\AppData\\Local\\Temp\\ipykernel_11908\\2369057647.py:46: FutureWarning: A value is trying to be set on a copy of a DataFrame or Series through chained assignment using an inplace method.\n",
      "The behavior will change in pandas 3.0. This inplace method will never work because the intermediate object on which we are setting values always behaves as a copy.\n",
      "\n",
      "For example, when doing 'df[col].method(value, inplace=True)', try using 'df.method({col: value}, inplace=True)' or df[col] = df[col].method(value) instead, to perform the operation inplace on the original object.\n",
      "\n",
      "\n",
      "  df_long['valor'].fillna(0, inplace=True)\n"
     ]
    },
    {
     "name": "stdout",
     "output_type": "stream",
     "text": [
      "Arquivo relatorio_preco_medio_mensal_2022_tratado.csv processado com sucesso! Salvo como relatorio_preco_medio_mensal_2022_tratado_rotacionado.csv\n",
      "     Produto/Unidade Nível de Comercialização U.F.     data  valor\n",
      "0       ABACATE (kg)                  ATACADO   RR  01/2022   6.00\n",
      "1977    ABACATE (kg)                  ATACADO   RR  02/2022   5.33\n",
      "3954    ABACATE (kg)                  ATACADO   RR  03/2022   6.50\n",
      "5931    ABACATE (kg)                  ATACADO   RR  04/2022   5.67\n",
      "7908    ABACATE (kg)                  ATACADO   RR  05/2022   5.33\n"
     ]
    },
    {
     "name": "stderr",
     "output_type": "stream",
     "text": [
      "C:\\Users\\Gabriel\\AppData\\Local\\Temp\\ipykernel_11908\\2369057647.py:46: FutureWarning: A value is trying to be set on a copy of a DataFrame or Series through chained assignment using an inplace method.\n",
      "The behavior will change in pandas 3.0. This inplace method will never work because the intermediate object on which we are setting values always behaves as a copy.\n",
      "\n",
      "For example, when doing 'df[col].method(value, inplace=True)', try using 'df.method({col: value}, inplace=True)' or df[col] = df[col].method(value) instead, to perform the operation inplace on the original object.\n",
      "\n",
      "\n",
      "  df_long['valor'].fillna(0, inplace=True)\n"
     ]
    },
    {
     "name": "stdout",
     "output_type": "stream",
     "text": [
      "Arquivo relatorio_preco_medio_mensal_2023_tratado.csv processado com sucesso! Salvo como relatorio_preco_medio_mensal_2023_tratado_rotacionado.csv\n",
      "     Produto/Unidade Nível de Comercialização U.F.     data  valor\n",
      "0       ABACATE (kg)                  ATACADO   RR  01/2023   6.83\n",
      "2021    ABACATE (kg)                  ATACADO   RR  02/2023   6.67\n",
      "4042    ABACATE (kg)                  ATACADO   RR  03/2023   6.83\n",
      "6063    ABACATE (kg)                  ATACADO   RR  04/2023   7.00\n",
      "8084    ABACATE (kg)                  ATACADO   RR  05/2023   7.00\n"
     ]
    }
   ],
   "source": [
    "import pandas as pd\n",
    "import os\n",
    "import sys\n",
    "from pathlib import Path  # Melhor forma para trabalhar com caminhos\n",
    "\n",
    "def clean_currency(value):\n",
    "    \"\"\"Função para limpar valores monetários com formatos diversos\"\"\"\n",
    "    if isinstance(value, str):\n",
    "        # Remove pontos como separador de milhar e substitui vírgula por ponto decimal\n",
    "        value = value.replace('.', '').replace(',', '.')\n",
    "        # Remove caracteres não numéricos (exceto ponto e sinal negativo)\n",
    "        value = ''.join(c for c in value if c.isdigit() or c in '.-')\n",
    "    try:\n",
    "        return float(value) if value else None\n",
    "    except (ValueError, TypeError):\n",
    "        return None\n",
    "\n",
    "def process_files(input_folder, output_folder):\n",
    "    \"\"\"Processa todos os arquivos CSV na pasta de entrada e salva na pasta de saída\"\"\"\n",
    "    # Garante que a pasta de saída existe\n",
    "    Path(output_folder).mkdir(parents=True, exist_ok=True)\n",
    "    \n",
    "    dataframes = {}\n",
    "    \n",
    "    for arquivo in os.listdir(input_folder):\n",
    "        if arquivo.endswith('.csv'):\n",
    "            try:\n",
    "                nome = os.path.splitext(arquivo)[0]\n",
    "                file_path = os.path.join(input_folder, arquivo)\n",
    "                \n",
    "                # Ler o CSV\n",
    "                df = pd.read_csv(file_path, encoding='utf-8')\n",
    "                dataframes[nome] = df\n",
    "                \n",
    "                # Transformar de wide para long\n",
    "                df_long = df.melt(\n",
    "                    id_vars=['Produto/Unidade', 'Nível de Comercialização', 'U.F.'],\n",
    "                    var_name='data',\n",
    "                    value_name='valor'\n",
    "                )\n",
    "                \n",
    "                # Limpeza dos valores\n",
    "                df_long['valor'] = df_long['valor'].apply(clean_currency)\n",
    "                \n",
    "                # Tratamento de nulos\n",
    "                df_long['valor'].fillna(0, inplace=True)\n",
    "                \n",
    "                # Ordenação\n",
    "                df_long = df_long.sort_values(['Produto/Unidade', 'U.F.', 'data'])\n",
    "                \n",
    "                # Salvar arquivo processado\n",
    "                output_file = f\"{nome}_rotacionado.csv\"\n",
    "                output_path = os.path.join(output_folder, output_file)\n",
    "                df_long.to_csv(output_path, index=False, encoding='utf-8')\n",
    "                \n",
    "                print(f\"Arquivo {arquivo} processado com sucesso! Salvo como {output_file}\")\n",
    "                print(df_long.head())\n",
    "                \n",
    "            except Exception as e:\n",
    "                print(f\"Erro ao processar o arquivo {arquivo}: {str(e)}\")\n",
    "\n",
    "# Configuração dos caminhos (usando Path para compatibilidade entre sistemas)\n",
    "base_dir = Path(\"C:/digital college/DA18/PYTHON/Projeto_Unidade_3/_4_Etapa_ETL\")\n",
    "input_folder = base_dir / \"datasets_tratados\"\n",
    "output_folder = base_dir / \"datasets_rotacionados\"\n",
    "\n",
    "# Executar o processamento\n",
    "process_files(input_folder, output_folder)"
   ]
  }
 ],
 "metadata": {
  "kernelspec": {
   "display_name": ".venv",
   "language": "python",
   "name": "python3"
  },
  "language_info": {
   "codemirror_mode": {
    "name": "ipython",
    "version": 3
   },
   "file_extension": ".py",
   "mimetype": "text/x-python",
   "name": "python",
   "nbconvert_exporter": "python",
   "pygments_lexer": "ipython3",
   "version": "3.11.0"
  }
 },
 "nbformat": 4,
 "nbformat_minor": 5
}

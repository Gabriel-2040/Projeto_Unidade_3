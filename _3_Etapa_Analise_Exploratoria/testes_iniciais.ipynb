{
 "cells": [
  {
   "cell_type": "code",
   "execution_count": null,
   "id": "7dafbfea",
   "metadata": {},
   "outputs": [],
   "source": [
    "!pip install pandas\n",
    "!pip install numpy\n",
    "!pip install matplotlib\n",
    "!pip install seaborn\n",
    "!pip install json\n",
    "!pip install openpyxl"
   ]
  },
  {
   "cell_type": "code",
   "execution_count": 2,
   "metadata": {},
   "outputs": [],
   "source": [
    "import pandas as pd\n",
    "import matplotlib.pyplot as plt\n",
    "import seaborn as sns\n",
    "import numpy as np\n",
    "import json\n",
    "import os\n",
    "import openpyxl\n"
   ]
  },
  {
   "cell_type": "markdown",
   "id": "451b38b9",
   "metadata": {},
   "source": [
    "# Carregar as bases de dados"
   ]
  },
  {
   "cell_type": "code",
   "execution_count": null,
   "id": "c32f61f0",
   "metadata": {},
   "outputs": [],
   "source": []
  },
  {
   "cell_type": "code",
   "execution_count": 9,
   "id": "2197a52c",
   "metadata": {},
   "outputs": [],
   "source": [
    "\n",
    "# #carregar dataset de vendas\n",
    "# file_path = r\"xxxx\"\n",
    "# with open(file_path, \"r\", encoding=\"utf-8\") as file:\n",
    "#     data = json.load(file)\n",
    "\n",
    "# criar um dataframe\n",
    "\n",
    "df2014 = pd.read_csv(r'E:\\PYTHON\\CURSOS\\10_Digital_College\\DA18\\PYTHON\\Projeto_Unidade_3\\_2_datasets\\Base_Governamental\\Dados\\relatorio_preco_medio_mensal_2014.csv')\n",
    "# df2015 = pd.read_csv(r'C:\\digital college\\DA18\\PYTHON\\Projeto_Unidade_3\\4_Etapa_ETL\\datasets_tratados\\relatorio_preco_medio_mensal_2015_tratado.csv')\n",
    "# df2016 = pd.read_csv(r'C:\\digital college\\DA18\\PYTHON\\Projeto_Unidade_3\\4_Etapa_ETL\\datasets_tratados\\relatorio_preco_medio_mensal_2016_tratado.csv')\n",
    "# df2017 = pd.read_csv(r'C:\\digital college\\DA18\\PYTHON\\Projeto_Unidade_3\\4_Etapa_ETL\\datasets_tratados\\relatorio_preco_medio_mensal_2017_tratado.csv')\n",
    "# df2018 = pd.read_csv(r'C:\\digital college\\DA18\\PYTHON\\Projeto_Unidade_3\\4_Etapa_ETL\\datasets_tratados\\relatorio_preco_medio_mensal_2018_tratado.csv')\n",
    "# df2019 = pd.read_csv(r'C:\\digital college\\DA18\\PYTHON\\Projeto_Unidade_3\\4_Etapa_ETL\\datasets_tratados\\relatorio_preco_medio_mensal_2019_tratado.csv')\n",
    "# df2020 = pd.read_csv(r'C:\\digital college\\DA18\\PYTHON\\Projeto_Unidade_3\\4_Etapa_ETL\\datasets_tratados\\relatorio_preco_medio_mensal_2020_tratado.csv')\n",
    "# df2021 = pd.read_csv(r'C:\\digital college\\DA18\\PYTHON\\Projeto_Unidade_3\\4_Etapa_ETL\\datasets_tratados\\relatorio_preco_medio_mensal_2021_tratado.csv')\n",
    "# df2022 = pd.read_csv(r'C:\\digital college\\DA18\\PYTHON\\Projeto_Unidade_3\\4_Etapa_ETL\\datasets_tratados\\relatorio_preco_medio_mensal_2022_tratado.csv')\n",
    "# df2023 = pd.read_csv(r'C:\\digital college\\DA18\\PYTHON\\Projeto_Unidade_3\\4_Etapa_ETL\\datasets_tratados\\relatorio_preco_medio_mensal_2023_tratado.csv')\n",
    "\n",
    "\n",
    "#salvar dataframe\n",
    "# csv_path_2014 = \"2_datasets\\Base_Governamental\\Dados\\relatorio_preco_medio_mensal_2014.csv\"\n",
    "# csv_path_2015 = \"2_datasets\\Base_Governamental\\Dados\\relatorio_preco_medio_mensal_2015.csv\"\n",
    "# csv_path_2016 = \"2_datasets\\Base_Governamental\\Dados\\relatorio_preco_medio_mensal_2016.csv\"\n",
    "# csv_path_2017 = \"2_datasets\\Base_Governamental\\Dados\\relatorio_preco_medio_mensal_2017.csv\"\n",
    "# csv_path_2018 = \"2_datasets\\Base_Governamental\\Dados\\relatorio_preco_medio_mensal_2018.csv\"\n",
    "# csv_path_2019 = \"2_datasets\\Base_Governamental\\Dados\\relatorio_preco_medio_mensal_2019.csv\"\n",
    "# csv_path_2020 = \"2_datasets\\Base_Governamental\\Dados\\relatorio_preco_medio_mensal_2020.csv\"\n",
    "# csv_path_2021 = \"2_datasets\\Base_Governamental\\Dados\\relatorio_preco_medio_mensal_2021.csv\"\n",
    "# csv_path_2022 = \"2_datasets\\Base_Governamental\\Dados\\relatorio_preco_medio_mensal_2022.csv\"\n",
    "# csv_path_2023 = \"2_datasets\\Base_Governamental\\Dados\\relatorio_preco_medio_mensal_2023.csv\"\n",
    "\n",
    "# df.to_csv(csv_path, index=False)\n"
   ]
  },
  {
   "cell_type": "markdown",
   "id": "bf972fb6",
   "metadata": {},
   "source": [
    "### Verificando as bases, nulos, duplicados"
   ]
  },
  {
   "cell_type": "code",
   "execution_count": 10,
   "id": "22ac6ead",
   "metadata": {},
   "outputs": [
    {
     "data": {
      "application/vnd.microsoft.datawrangler.viewer.v0+json": {
       "columns": [
        {
         "name": "index",
         "rawType": "int64",
         "type": "integer"
        },
        {
         "name": "Produto/Unidade",
         "rawType": "object",
         "type": "unknown"
        },
        {
         "name": "Nível de Comercialização",
         "rawType": "object",
         "type": "unknown"
        },
        {
         "name": "U.F.",
         "rawType": "object",
         "type": "string"
        },
        {
         "name": "01/2014",
         "rawType": "object",
         "type": "string"
        },
        {
         "name": "02/2014",
         "rawType": "object",
         "type": "string"
        },
        {
         "name": "03/2014",
         "rawType": "object",
         "type": "string"
        },
        {
         "name": "04/2014",
         "rawType": "object",
         "type": "string"
        },
        {
         "name": "05/2014",
         "rawType": "object",
         "type": "string"
        },
        {
         "name": "06/2014",
         "rawType": "object",
         "type": "string"
        },
        {
         "name": "07/2014",
         "rawType": "object",
         "type": "string"
        },
        {
         "name": "08/2014",
         "rawType": "object",
         "type": "string"
        },
        {
         "name": "09/2014",
         "rawType": "object",
         "type": "string"
        },
        {
         "name": "10/2014",
         "rawType": "object",
         "type": "string"
        },
        {
         "name": "11/2014",
         "rawType": "object",
         "type": "string"
        },
        {
         "name": "12/2014",
         "rawType": "object",
         "type": "string"
        }
       ],
       "ref": "c7833d84-2315-4730-a8b5-74acfb85a556",
       "rows": [
        [
         "0",
         "ABACAXI PÉROLA (kg)",
         "PRODUTOR",
         "AM",
         "1,35",
         "1,56",
         "1,60",
         "1,63",
         "1,60",
         "1,58",
         "1,41",
         "1,43",
         "1,48",
         "1,56",
         "1,80",
         "1,78"
        ],
        [
         "1",
         null,
         null,
         "AP",
         "1,50",
         "2,38",
         "2,50",
         "2,50",
         "2,25",
         "2,19",
         "2,05",
         "1,92",
         "1,80",
         "1,92",
         "2,10",
         "2,50"
        ],
        [
         "2",
         null,
         null,
         "ES",
         "1,63",
         "1,45",
         "1,73",
         "1,90",
         "1,89",
         "1,83",
         "1,85",
         "1,65",
         "1,56",
         "1,77",
         "1,93",
         "1,60"
        ],
        [
         "3",
         null,
         null,
         "PR",
         "1,50",
         "1,50",
         "1,50",
         "1,50",
         "1,50",
         "1,50",
         "1,50",
         "1,50",
         "1,50",
         "1,50",
         "1,50",
         "1,50"
        ],
        [
         "4",
         null,
         null,
         "RR",
         "1,17",
         "1,15",
         "1,21",
         "1,25",
         "1,25",
         "1,25",
         "1,25",
         "1,25",
         "1,25",
         "1,28",
         "1,30",
         "1,28"
        ]
       ],
       "shape": {
        "columns": 15,
        "rows": 5
       }
      },
      "text/html": [
       "<div>\n",
       "<style scoped>\n",
       "    .dataframe tbody tr th:only-of-type {\n",
       "        vertical-align: middle;\n",
       "    }\n",
       "\n",
       "    .dataframe tbody tr th {\n",
       "        vertical-align: top;\n",
       "    }\n",
       "\n",
       "    .dataframe thead th {\n",
       "        text-align: right;\n",
       "    }\n",
       "</style>\n",
       "<table border=\"1\" class=\"dataframe\">\n",
       "  <thead>\n",
       "    <tr style=\"text-align: right;\">\n",
       "      <th></th>\n",
       "      <th>Produto/Unidade</th>\n",
       "      <th>Nível de Comercialização</th>\n",
       "      <th>U.F.</th>\n",
       "      <th>01/2014</th>\n",
       "      <th>02/2014</th>\n",
       "      <th>03/2014</th>\n",
       "      <th>04/2014</th>\n",
       "      <th>05/2014</th>\n",
       "      <th>06/2014</th>\n",
       "      <th>07/2014</th>\n",
       "      <th>08/2014</th>\n",
       "      <th>09/2014</th>\n",
       "      <th>10/2014</th>\n",
       "      <th>11/2014</th>\n",
       "      <th>12/2014</th>\n",
       "    </tr>\n",
       "  </thead>\n",
       "  <tbody>\n",
       "    <tr>\n",
       "      <th>0</th>\n",
       "      <td>ABACAXI PÉROLA (kg)</td>\n",
       "      <td>PRODUTOR</td>\n",
       "      <td>AM</td>\n",
       "      <td>1,35</td>\n",
       "      <td>1,56</td>\n",
       "      <td>1,60</td>\n",
       "      <td>1,63</td>\n",
       "      <td>1,60</td>\n",
       "      <td>1,58</td>\n",
       "      <td>1,41</td>\n",
       "      <td>1,43</td>\n",
       "      <td>1,48</td>\n",
       "      <td>1,56</td>\n",
       "      <td>1,80</td>\n",
       "      <td>1,78</td>\n",
       "    </tr>\n",
       "    <tr>\n",
       "      <th>1</th>\n",
       "      <td>NaN</td>\n",
       "      <td>NaN</td>\n",
       "      <td>AP</td>\n",
       "      <td>1,50</td>\n",
       "      <td>2,38</td>\n",
       "      <td>2,50</td>\n",
       "      <td>2,50</td>\n",
       "      <td>2,25</td>\n",
       "      <td>2,19</td>\n",
       "      <td>2,05</td>\n",
       "      <td>1,92</td>\n",
       "      <td>1,80</td>\n",
       "      <td>1,92</td>\n",
       "      <td>2,10</td>\n",
       "      <td>2,50</td>\n",
       "    </tr>\n",
       "    <tr>\n",
       "      <th>2</th>\n",
       "      <td>NaN</td>\n",
       "      <td>NaN</td>\n",
       "      <td>ES</td>\n",
       "      <td>1,63</td>\n",
       "      <td>1,45</td>\n",
       "      <td>1,73</td>\n",
       "      <td>1,90</td>\n",
       "      <td>1,89</td>\n",
       "      <td>1,83</td>\n",
       "      <td>1,85</td>\n",
       "      <td>1,65</td>\n",
       "      <td>1,56</td>\n",
       "      <td>1,77</td>\n",
       "      <td>1,93</td>\n",
       "      <td>1,60</td>\n",
       "    </tr>\n",
       "    <tr>\n",
       "      <th>3</th>\n",
       "      <td>NaN</td>\n",
       "      <td>NaN</td>\n",
       "      <td>PR</td>\n",
       "      <td>1,50</td>\n",
       "      <td>1,50</td>\n",
       "      <td>1,50</td>\n",
       "      <td>1,50</td>\n",
       "      <td>1,50</td>\n",
       "      <td>1,50</td>\n",
       "      <td>1,50</td>\n",
       "      <td>1,50</td>\n",
       "      <td>1,50</td>\n",
       "      <td>1,50</td>\n",
       "      <td>1,50</td>\n",
       "      <td>1,50</td>\n",
       "    </tr>\n",
       "    <tr>\n",
       "      <th>4</th>\n",
       "      <td>NaN</td>\n",
       "      <td>NaN</td>\n",
       "      <td>RR</td>\n",
       "      <td>1,17</td>\n",
       "      <td>1,15</td>\n",
       "      <td>1,21</td>\n",
       "      <td>1,25</td>\n",
       "      <td>1,25</td>\n",
       "      <td>1,25</td>\n",
       "      <td>1,25</td>\n",
       "      <td>1,25</td>\n",
       "      <td>1,25</td>\n",
       "      <td>1,28</td>\n",
       "      <td>1,30</td>\n",
       "      <td>1,28</td>\n",
       "    </tr>\n",
       "  </tbody>\n",
       "</table>\n",
       "</div>"
      ],
      "text/plain": [
       "       Produto/Unidade Nível de Comercialização U.F. 01/2014 02/2014 03/2014  \\\n",
       "0  ABACAXI PÉROLA (kg)                 PRODUTOR   AM    1,35    1,56    1,60   \n",
       "1                  NaN                      NaN   AP    1,50    2,38    2,50   \n",
       "2                  NaN                      NaN   ES    1,63    1,45    1,73   \n",
       "3                  NaN                      NaN   PR    1,50    1,50    1,50   \n",
       "4                  NaN                      NaN   RR    1,17    1,15    1,21   \n",
       "\n",
       "  04/2014 05/2014 06/2014 07/2014 08/2014 09/2014 10/2014 11/2014 12/2014  \n",
       "0    1,63    1,60    1,58    1,41    1,43    1,48    1,56    1,80    1,78  \n",
       "1    2,50    2,25    2,19    2,05    1,92    1,80    1,92    2,10    2,50  \n",
       "2    1,90    1,89    1,83    1,85    1,65    1,56    1,77    1,93    1,60  \n",
       "3    1,50    1,50    1,50    1,50    1,50    1,50    1,50    1,50    1,50  \n",
       "4    1,25    1,25    1,25    1,25    1,25    1,25    1,28    1,30    1,28  "
      ]
     },
     "execution_count": 10,
     "metadata": {},
     "output_type": "execute_result"
    }
   ],
   "source": [
    "df2014.head()"
   ]
  },
  {
   "cell_type": "code",
   "execution_count": 11,
   "id": "88143a91",
   "metadata": {},
   "outputs": [
    {
     "ename": "NameError",
     "evalue": "name 'df2016' is not defined",
     "output_type": "error",
     "traceback": [
      "\u001b[31m---------------------------------------------------------------------------\u001b[39m",
      "\u001b[31mNameError\u001b[39m                                 Traceback (most recent call last)",
      "\u001b[36mCell\u001b[39m\u001b[36m \u001b[39m\u001b[32mIn[11]\u001b[39m\u001b[32m, line 1\u001b[39m\n\u001b[32m----> \u001b[39m\u001b[32m1\u001b[39m \u001b[43mdf2016\u001b[49m\n",
      "\u001b[31mNameError\u001b[39m: name 'df2016' is not defined"
     ]
    }
   ],
   "source": [
    "df2016"
   ]
  },
  {
   "cell_type": "markdown",
   "id": "2e18a1fb",
   "metadata": {},
   "source": [
    "#### Verificado a não existencia de nulos no periodo de 2014-2023"
   ]
  },
  {
   "cell_type": "code",
   "execution_count": null,
   "id": "9de58201",
   "metadata": {},
   "outputs": [],
   "source": [
    "df2022.isnull().sum()"
   ]
  },
  {
   "cell_type": "code",
   "execution_count": null,
   "id": "f86159e7",
   "metadata": {},
   "outputs": [],
   "source": [
    "df2014.describe()"
   ]
  },
  {
   "cell_type": "code",
   "execution_count": null,
   "id": "1fdfd8c6",
   "metadata": {},
   "outputs": [],
   "source": [
    "df2022.duplicated().sum()"
   ]
  },
  {
   "cell_type": "markdown",
   "id": "66b45bbe",
   "metadata": {},
   "source": [
    "#### Verificando os tipos de dados nos anos"
   ]
  },
  {
   "cell_type": "code",
   "execution_count": null,
   "id": "b40b49fb",
   "metadata": {},
   "outputs": [],
   "source": [
    "df2014.dtypes\n"
   ]
  },
  {
   "cell_type": "markdown",
   "id": "8e7d97ba",
   "metadata": {},
   "source": [
    "# mostar a primeira linha"
   ]
  },
  {
   "cell_type": "code",
   "execution_count": null,
   "id": "36103187",
   "metadata": {},
   "outputs": [],
   "source": [
    "print(df2019.iloc[[0]])"
   ]
  },
  {
   "cell_type": "code",
   "execution_count": null,
   "id": "bb37f89f",
   "metadata": {},
   "outputs": [],
   "source": [
    "print(df2014.columns[0])"
   ]
  },
  {
   "cell_type": "markdown",
   "id": "a16d7170",
   "metadata": {},
   "source": [
    "# fazer um select distinct na coluna"
   ]
  },
  {
   "cell_type": "code",
   "execution_count": null,
   "id": "9c81a49e",
   "metadata": {},
   "outputs": [],
   "source": [
    "\n",
    "df2014['Produto/Unidade'].unique()\n"
   ]
  },
  {
   "cell_type": "code",
   "execution_count": null,
   "id": "ea749642",
   "metadata": {},
   "outputs": [],
   "source": [
    "df2023.tail(10)"
   ]
  },
  {
   "cell_type": "code",
   "execution_count": null,
   "id": "e1764e19",
   "metadata": {},
   "outputs": [],
   "source": [
    "# Verifica onde há NaN\n",
    "df2017.isna().sum()\n",
    "#2017 tem nulos\n",
    "#df2017[df2017.isnull().any(axis=1)]\n",
    "#preencher o nulo de 2017 por 0\n",
    "#df2017 = df2017.fillna(0)\n",
    "#df2017"
   ]
  },
  {
   "cell_type": "markdown",
   "id": "26bd1e1f",
   "metadata": {},
   "source": [
    "### Macrogrupos: Adicionar coluna macro grupos."
   ]
  }
 ],
 "metadata": {
  "kernelspec": {
   "display_name": ".venv",
   "language": "python",
   "name": "python3"
  },
  "language_info": {
   "codemirror_mode": {
    "name": "ipython",
    "version": 3
   },
   "file_extension": ".py",
   "mimetype": "text/x-python",
   "name": "python",
   "nbconvert_exporter": "python",
   "pygments_lexer": "ipython3",
   "version": "3.12.10"
  }
 },
 "nbformat": 4,
 "nbformat_minor": 5
}

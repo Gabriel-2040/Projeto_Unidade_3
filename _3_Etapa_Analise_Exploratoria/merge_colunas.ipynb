{
 "cells": [
  {
   "cell_type": "markdown",
   "id": "e2cb4c63",
   "metadata": {},
   "source": [
    "### Merge da coluna Produtos"
   ]
  },
  {
   "cell_type": "code",
   "execution_count": 1,
   "id": "c0d391fd",
   "metadata": {},
   "outputs": [
    {
     "name": "stdout",
     "output_type": "stream",
     "text": [
      "                                         Produto/Unidade\n",
      "0                                    ABACAXI PÉROLA (kg)\n",
      "6                                     ABACAXI PÉROLA (t)\n",
      "16                                   ABACAXI PÉROLA (un)\n",
      "18                                          ABACAXI (un)\n",
      "36                                       AÇAÍ FRUTO (kg)\n",
      "...                                                  ...\n",
      "19782                                          PIAU (kg)\n",
      "19810                                 POLPA DE AÇAÍ (kg)\n",
      "19834                               POLPA DE MURICI (kg)\n",
      "19851                   RAIZ DE MANDIOCA DE MESA (28 kg)\n",
      "19961  TIGER 100 EC 100 G/L + 800 G/L EC ÉTER PIRIDIL...\n",
      "\n",
      "[774 rows x 1 columns]\n",
      "Resultado salvo em: C:\\digital college\\DA18\\PYTHON\\Projeto_Unidade_3\\4_Etapa_ETL\\datasets_tratados\\merge_colunas_csv.csv\n"
     ]
    }
   ],
   "source": [
    "import pandas as pd\n",
    "import os\n",
    "\n",
    "# Caminho da pasta com os arquivos CSV\n",
    "pasta_csv = r'C:\\digital college\\DA18\\PYTHON\\Projeto_Unidade_3\\4_Etapa_ETL\\datasets_tratados'\n",
    "\n",
    "# Nome da coluna para aplicar o DISTINCT\n",
    "coluna_distinct = 'Produto/Unidade'\n",
    "\n",
    "# Lista para armazenar os DataFrames lidos\n",
    "lista_dfs = []\n",
    "\n",
    "# Loop pelos arquivos CSV na pasta\n",
    "for arquivo in os.listdir(pasta_csv):\n",
    "    if arquivo.endswith('.csv'):\n",
    "        caminho_arquivo = os.path.join(pasta_csv, arquivo)\n",
    "        try:\n",
    "            df = pd.read_csv(caminho_arquivo, encoding='utf-8', sep=',')\n",
    "            lista_dfs.append(df)\n",
    "        except Exception as e:\n",
    "            print(f'Erro ao ler {arquivo}: {e}')\n",
    "\n",
    "# Junta todos os DataFrames\n",
    "df_total = pd.concat(lista_dfs, ignore_index=True)\n",
    "\n",
    "# Aplica DISTINCT na coluna específica\n",
    "df_distinct = df_total[[coluna_distinct]].drop_duplicates()\n",
    "\n",
    "# Exibe os dados distintos\n",
    "print(df_distinct)\n",
    "\n",
    "# (Opcional) Salvar resultado\n",
    "caminho_saida = os.path.join(pasta_csv, 'merge_colunas_csv.csv')\n",
    "df_distinct.to_csv(caminho_saida, index=False, encoding='utf-8')\n",
    "print(f'Resultado salvo em: {caminho_saida}')\n"
   ]
  },
  {
   "cell_type": "markdown",
   "id": "e84ab498",
   "metadata": {},
   "source": [
    "### Merge da coluna Nivel de Comercialização"
   ]
  },
  {
   "cell_type": "code",
   "execution_count": 2,
   "id": "c05db75f",
   "metadata": {},
   "outputs": [
    {
     "name": "stdout",
     "output_type": "stream",
     "text": [
      "    Nível de Comercialização\n",
      "0                        NaN\n",
      "774                 PRODUTOR\n",
      "792                  ATACADO\n",
      "817                   VAREJO\n",
      "Resultado salvo em: C:\\digital college\\DA18\\PYTHON\\Projeto_Unidade_3\\4_Etapa_ETL\\datasets_tratados\\merge_colunas_nivel_comercializacao_csv.csv\n"
     ]
    }
   ],
   "source": [
    "import pandas as pd\n",
    "import os\n",
    "\n",
    "# Caminho da pasta com os arquivos CSV\n",
    "pasta_csv = r'C:\\digital college\\DA18\\PYTHON\\Projeto_Unidade_3\\4_Etapa_ETL\\datasets_tratados'\n",
    "\n",
    "# Nome da coluna para aplicar o DISTINCT\n",
    "coluna_distinct = 'Nível de Comercialização'\n",
    "\n",
    "# Lista para armazenar os DataFrames lidos\n",
    "lista_dfs = []\n",
    "\n",
    "# Loop pelos arquivos CSV na pasta\n",
    "for arquivo in os.listdir(pasta_csv):\n",
    "    if arquivo.endswith('.csv'):\n",
    "        caminho_arquivo = os.path.join(pasta_csv, arquivo)\n",
    "        try:\n",
    "            df = pd.read_csv(caminho_arquivo, encoding='utf-8', sep=',')\n",
    "            lista_dfs.append(df)\n",
    "        except Exception as e:\n",
    "            print(f'Erro ao ler {arquivo}: {e}')\n",
    "\n",
    "# Junta todos os DataFrames\n",
    "df_total = pd.concat(lista_dfs, ignore_index=True)\n",
    "\n",
    "# Aplica DISTINCT na coluna específica\n",
    "df_distinct = df_total[[coluna_distinct]].drop_duplicates()\n",
    "\n",
    "# Exibe os dados distintos\n",
    "print(df_distinct)\n",
    "\n",
    "# (Opcional) Salvar resultado\n",
    "caminho_saida = os.path.join(pasta_csv, 'merge_colunas_nivel_comercializacao_csv.csv')\n",
    "df_distinct.to_csv(caminho_saida, index=False, encoding='utf-8')\n",
    "print(f'Resultado salvo em: {caminho_saida}')\n"
   ]
  }
 ],
 "metadata": {
  "kernelspec": {
   "display_name": ".venv",
   "language": "python",
   "name": "python3"
  },
  "language_info": {
   "codemirror_mode": {
    "name": "ipython",
    "version": 3
   },
   "file_extension": ".py",
   "mimetype": "text/x-python",
   "name": "python",
   "nbconvert_exporter": "python",
   "pygments_lexer": "ipython3",
   "version": "3.11.0"
  }
 },
 "nbformat": 4,
 "nbformat_minor": 5
}

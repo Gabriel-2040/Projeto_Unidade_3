{
 "cells": [
  {
   "cell_type": "markdown",
   "id": "01260426",
   "metadata": {},
   "source": [
    "### Há sazonalidade clara em certos produtos (ex: frutas, hortaliças)?\n"
   ]
  },
  {
   "cell_type": "code",
   "execution_count": 2,
   "id": "0d9b936c",
   "metadata": {},
   "outputs": [],
   "source": [
    "import pandas as pd\n",
    "import matplotlib.pyplot as plt\n",
    "import seaborn as sns\n",
    "\n",
    "# Carregar os dados\n",
    "df = pd.read_csv(r'C:\\digital college\\DA18\\PYTHON\\Projeto_Unidade_3\\_5_Dataframes_tratados\\dados_completos.csv')\n"
   ]
  },
  {
   "cell_type": "code",
   "execution_count": null,
   "id": "c24a91f8",
   "metadata": {},
   "outputs": [
    {
     "ename": "NameError",
     "evalue": "name 'df' is not defined",
     "output_type": "error",
     "traceback": [
      "\u001b[31m---------------------------------------------------------------------------\u001b[39m",
      "\u001b[31mNameError\u001b[39m                                 Traceback (most recent call last)",
      "\u001b[36mCell\u001b[39m\u001b[36m \u001b[39m\u001b[32mIn[2]\u001b[39m\u001b[32m, line 19\u001b[39m\n\u001b[32m     17\u001b[39m produtos_agricolas = [\u001b[33m'\u001b[39m\u001b[33mlaranja\u001b[39m\u001b[33m'\u001b[39m, \u001b[33m'\u001b[39m\u001b[33mtomate\u001b[39m\u001b[33m'\u001b[39m, \u001b[33m'\u001b[39m\u001b[33malface\u001b[39m\u001b[33m'\u001b[39m, \u001b[33m'\u001b[39m\u001b[33mcenoura\u001b[39m\u001b[33m'\u001b[39m]\n\u001b[32m     18\u001b[39m \u001b[38;5;28;01mfor\u001b[39;00m produto \u001b[38;5;129;01min\u001b[39;00m produtos_agricolas:\n\u001b[32m---> \u001b[39m\u001b[32m19\u001b[39m     \u001b[38;5;28;01mif\u001b[39;00m produto \u001b[38;5;129;01min\u001b[39;00m \u001b[43mdf\u001b[49m[\u001b[33m'\u001b[39m\u001b[33mproduto\u001b[39m\u001b[33m'\u001b[39m].unique():\n\u001b[32m     20\u001b[39m         analisar_sazonalidade(produto)\n\u001b[32m     22\u001b[39m \u001b[38;5;66;03m# Identificação de padrões sazonais\u001b[39;00m\n",
      "\u001b[31mNameError\u001b[39m: name 'df' is not defined"
     ]
    }
   ],
   "source": [
    "\n",
    "# Análise de sazonalidade\n",
    "def analisar_sazonalidade(produto):\n",
    "    temp = df[df['prod_und'] == produto].groupby(['ano', 'mes'])['valor'].sum().unstack(level=0)\n",
    "    \n",
    "    plt.figure(figsize=(12,6))\n",
    "    temp.plot(title=f'Sazonalidade de {produto}')\n",
    "    plt.ylabel('Faturamento')\n",
    "    plt.xlabel('Mês')\n",
    "    plt.show()\n",
    "    \n",
    "    # Verificar meses sem venda\n",
    "    meses_sem_venda = temp[temp.isnull().any(axis=1)]\n",
    "    if not meses_sem_venda.empty:\n",
    "        print(f\"Meses sem vendas para {produto}:\\n\", meses_sem_venda.index)\n",
    "\n",
    "# Exemplo para produtos agrícolas\n",
    "produtos_agricolas = df['laranja', 'tomate', 'alface', 'cenoura']\n",
    "for produto in produtos_agricolas:\n",
    "    if produto in df['produto'].unique():\n",
    "        analisar_sazonalidade(produto)\n",
    "\n",
    "# Identificação de padrões sazonais\n",
    "df['data'] = pd.to_datetime(df['ano'].astype(str) + '-' + df['mes'].astype(str))\n",
    "sazonais = df.groupby(['produto', pd.Grouper(key='data', freq='M')])['valor'].sum().unstack(level=0)\n",
    "\n",
    "# Calcular sazonalidade\n",
    "sazonais = sazonais.apply(lambda x: x/x.mean())  # Normalização\n",
    "\n",
    "plt.figure(figsize=(14,8))\n",
    "sns.heatmap(sazonais.corr(), cmap='coolwarm', center=0)\n",
    "plt.title('Correlação de Sazonalidade entre Produtos')\n",
    "plt.show()"
   ]
  }
 ],
 "metadata": {
  "kernelspec": {
   "display_name": ".venv",
   "language": "python",
   "name": "python3"
  },
  "language_info": {
   "codemirror_mode": {
    "name": "ipython",
    "version": 3
   },
   "file_extension": ".py",
   "mimetype": "text/x-python",
   "name": "python",
   "nbconvert_exporter": "python",
   "pygments_lexer": "ipython3",
   "version": "3.11.0"
  }
 },
 "nbformat": 4,
 "nbformat_minor": 5
}

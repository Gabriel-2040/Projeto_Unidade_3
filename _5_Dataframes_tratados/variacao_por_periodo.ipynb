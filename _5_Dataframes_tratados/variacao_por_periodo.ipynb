{
 "cells": [
  {
   "cell_type": "markdown",
   "id": "11161e56",
   "metadata": {},
   "source": [
    "### Quais produtos apresentaram maior variação de preço ao longo do ano?"
   ]
  },
  {
   "cell_type": "code",
   "execution_count": 1,
   "id": "dda1fed4",
   "metadata": {},
   "outputs": [],
   "source": [
    "import pandas as pd\n",
    "import matplotlib.pyplot as plt\n",
    "import seaborn as sns\n",
    "\n",
    "# Carregar os dados\n",
    "df = pd.read_csv(r'C:\\digital college\\DA18\\PYTHON\\Projeto_Unidade_3\\_5_Dataframes_tratados\\dados_completos.csv')\n"
   ]
  },
  {
   "cell_type": "code",
   "execution_count": null,
   "id": "40215776",
   "metadata": {},
   "outputs": [
    {
     "ename": "NameError",
     "evalue": "name 'df' is not defined",
     "output_type": "error",
     "traceback": [
      "\u001b[31m---------------------------------------------------------------------------\u001b[39m",
      "\u001b[31mNameError\u001b[39m                                 Traceback (most recent call last)",
      "\u001b[36mCell\u001b[39m\u001b[36m \u001b[39m\u001b[32mIn[1]\u001b[39m\u001b[32m, line 2\u001b[39m\n\u001b[32m      1\u001b[39m \u001b[38;5;66;03m# Variação de preço por produto\u001b[39;00m\n\u001b[32m----> \u001b[39m\u001b[32m2\u001b[39m variacao_produto = \u001b[43mdf\u001b[49m.groupby([\u001b[33m'\u001b[39m\u001b[33mproduto\u001b[39m\u001b[33m'\u001b[39m, \u001b[33m'\u001b[39m\u001b[33mano\u001b[39m\u001b[33m'\u001b[39m])[\u001b[33m'\u001b[39m\u001b[33mvalor\u001b[39m\u001b[33m'\u001b[39m].agg([\u001b[33m'\u001b[39m\u001b[33mmean\u001b[39m\u001b[33m'\u001b[39m, \u001b[33m'\u001b[39m\u001b[33mstd\u001b[39m\u001b[33m'\u001b[39m])\n\u001b[32m      3\u001b[39m variacao_produto[\u001b[33m'\u001b[39m\u001b[33mcv\u001b[39m\u001b[33m'\u001b[39m] = (variacao_produto[\u001b[33m'\u001b[39m\u001b[33mstd\u001b[39m\u001b[33m'\u001b[39m] / variacao_produto[\u001b[33m'\u001b[39m\u001b[33mmean\u001b[39m\u001b[33m'\u001b[39m]) * \u001b[32m100\u001b[39m\n\u001b[32m      4\u001b[39m variacao_produto = variacao_produto.sort_values(\u001b[33m'\u001b[39m\u001b[33mcv\u001b[39m\u001b[33m'\u001b[39m, ascending=\u001b[38;5;28;01mFalse\u001b[39;00m)\n",
      "\u001b[31mNameError\u001b[39m: name 'df' is not defined"
     ]
    }
   ],
   "source": [
    "\n",
    "# Variação de preço por produto\n",
    "variacao_produto = df.groupby(['produto', 'ano'])['valor'].agg(['mean', 'std'])\n",
    "variacao_produto['cv'] = (variacao_produto['std'] / variacao_produto['mean']) * 100\n",
    "variacao_produto = variacao_produto.sort_values('cv', ascending=False)\n",
    "\n",
    "print(\"Produtos com maior variação de preço:\\n\", variacao_produto.head(10))\n",
    "\n",
    "# Análise por macrogrupo\n",
    "if 'macrogrupo' in df.columns:\n",
    "    variacao_macrogrupo = df.groupby(['macrogrupo', 'ano'])['valor'].agg(['mean', 'std'])\n",
    "    variacao_macrogrupo['cv'] = (variacao_macrogrupo['std'] / variacao_macrogrupo['mean']) * 100\n",
    "    \n",
    "    plt.figure(figsize=(12,6))\n",
    "    sns.barplot(data=variacao_macrogrupo.reset_index(), x='macrogrupo', y='cv')\n",
    "    plt.title('Coeficiente de Variação por Macrogrupo')\n",
    "    plt.xticks(rotation=45)\n",
    "    plt.show()\n",
    "\n",
    "# Análise por tipo de comercialização\n",
    "if 'tipo_de_comercializacao' in df.columns:\n",
    "    tipo_comerc = df.groupby(['tipo_de_comercializacao', 'produto', 'ano'])['valor'].mean().unstack(level=[0,1])\n",
    "    \n",
    "    fig, axes = plt.subplots(3, 1, figsize=(14, 12))\n",
    "    for i, tipo in enumerate(df['tipo_de_comercializacao'].unique()):\n",
    "        tipo_comerc[tipo].plot(ax=axes[i], title=f'Variação por Produto - {tipo}')\n",
    "        axes[i].legend(loc='upper right')\n",
    "    plt.tight_layout()\n",
    "    plt.show()"
   ]
  }
 ],
 "metadata": {
  "kernelspec": {
   "display_name": ".venv",
   "language": "python",
   "name": "python3"
  },
  "language_info": {
   "codemirror_mode": {
    "name": "ipython",
    "version": 3
   },
   "file_extension": ".py",
   "mimetype": "text/x-python",
   "name": "python",
   "nbconvert_exporter": "python",
   "pygments_lexer": "ipython3",
   "version": "3.11.0"
  }
 },
 "nbformat": 4,
 "nbformat_minor": 5
}
